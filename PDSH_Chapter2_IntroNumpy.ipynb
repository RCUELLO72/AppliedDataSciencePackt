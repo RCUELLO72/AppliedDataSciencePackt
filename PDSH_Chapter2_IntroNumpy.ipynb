{
  "nbformat": 4,
  "nbformat_minor": 0,
  "metadata": {
    "colab": {
      "name": "PDSH_Chapter2_IntroNumpy.ipynb",
      "version": "0.3.2",
      "provenance": [],
      "collapsed_sections": [],
      "include_colab_link": true
    },
    "kernelspec": {
      "name": "python3",
      "display_name": "Python 3"
    }
  },
  "cells": [
    {
      "cell_type": "markdown",
      "metadata": {
        "id": "view-in-github",
        "colab_type": "text"
      },
      "source": [
        "<a href=\"https://colab.research.google.com/github/RCUELLO72/PythonDataScienceHandbook/blob/master/PDSH_Chapter2_IntroNumpy.ipynb\" target=\"_parent\"><img src=\"https://colab.research.google.com/assets/colab-badge.svg\" alt=\"Open In Colab\"/></a>"
      ]
    },
    {
      "metadata": {
        "id": "Xh7gVEIy5Qy6",
        "colab_type": "code",
        "colab": {}
      },
      "cell_type": "code",
      "source": [
        "import numpy as np"
      ],
      "execution_count": 0,
      "outputs": []
    },
    {
      "metadata": {
        "id": "8y96KKCp5bnd",
        "colab_type": "text"
      },
      "cell_type": "markdown",
      "source": [
        "#Introduction to Numpy#"
      ]
    },
    {
      "metadata": {
        "id": "E4RlxQS81EfU",
        "colab_type": "code",
        "outputId": "151810bf-5b83-4c21-f6e1-bb1f812839e2",
        "colab": {
          "base_uri": "https://localhost:8080/",
          "height": 35
        }
      },
      "cell_type": "code",
      "source": [
        "result =0\n",
        "for i in range(100):\n",
        "    result += i\n",
        "print(result)"
      ],
      "execution_count": 0,
      "outputs": [
        {
          "output_type": "stream",
          "text": [
            "4950\n"
          ],
          "name": "stdout"
        }
      ]
    },
    {
      "metadata": {
        "id": "C_XXe0o56dxT",
        "colab_type": "text"
      },
      "cell_type": "markdown",
      "source": [
        "### Creating arrays from lists"
      ]
    },
    {
      "metadata": {
        "id": "jh9nvPun1gSa",
        "colab_type": "code",
        "colab": {
          "base_uri": "https://localhost:8080/",
          "height": 35
        },
        "outputId": "ccfb5dc0-edca-40a4-c1b0-e80796382e28"
      },
      "cell_type": "code",
      "source": [
        "a = np.array([1,2,3,4,5])\n",
        "a"
      ],
      "execution_count": 2,
      "outputs": [
        {
          "output_type": "execute_result",
          "data": {
            "text/plain": [
              "array([1, 2, 3, 4, 5])"
            ]
          },
          "metadata": {
            "tags": []
          },
          "execution_count": 2
        }
      ]
    },
    {
      "metadata": {
        "id": "NzPfYMgm6rD5",
        "colab_type": "code",
        "colab": {
          "base_uri": "https://localhost:8080/",
          "height": 35
        },
        "outputId": "96974808-f2be-4e7c-d22e-e5e47d601f13"
      },
      "cell_type": "code",
      "source": [
        "type(a)"
      ],
      "execution_count": 3,
      "outputs": [
        {
          "output_type": "execute_result",
          "data": {
            "text/plain": [
              "numpy.ndarray"
            ]
          },
          "metadata": {
            "tags": []
          },
          "execution_count": 3
        }
      ]
    },
    {
      "metadata": {
        "id": "OAWkjyOO6sXs",
        "colab_type": "code",
        "colab": {
          "base_uri": "https://localhost:8080/",
          "height": 72
        },
        "outputId": "ab51b7db-1d73-4271-fbfa-f535c873ba8a"
      },
      "cell_type": "code",
      "source": [
        "matrix = np.array([range(i,i+3) for i in[2,4,6]])\n",
        "matrix"
      ],
      "execution_count": 4,
      "outputs": [
        {
          "output_type": "execute_result",
          "data": {
            "text/plain": [
              "array([[2, 3, 4],\n",
              "       [4, 5, 6],\n",
              "       [6, 7, 8]])"
            ]
          },
          "metadata": {
            "tags": []
          },
          "execution_count": 4
        }
      ]
    },
    {
      "metadata": {
        "id": "GKfdpPFS7G9g",
        "colab_type": "code",
        "colab": {
          "base_uri": "https://localhost:8080/",
          "height": 53
        },
        "outputId": "2cdac36d-921c-4083-aa93-e2ddd4f7911b"
      },
      "cell_type": "code",
      "source": [
        "zo = np.zeros((2,4),dtype=float)\n",
        "zo"
      ],
      "execution_count": 5,
      "outputs": [
        {
          "output_type": "execute_result",
          "data": {
            "text/plain": [
              "array([[0., 0., 0., 0.],\n",
              "       [0., 0., 0., 0.]])"
            ]
          },
          "metadata": {
            "tags": []
          },
          "execution_count": 5
        }
      ]
    },
    {
      "metadata": {
        "id": "W8kc2SMR7WWw",
        "colab_type": "code",
        "colab": {
          "base_uri": "https://localhost:8080/",
          "height": 53
        },
        "outputId": "8ba03771-5b37-4bcb-83f9-5f64e76af563"
      },
      "cell_type": "code",
      "source": [
        "ons = np.ones((2,3),dtype=int)\n",
        "ons"
      ],
      "execution_count": 6,
      "outputs": [
        {
          "output_type": "execute_result",
          "data": {
            "text/plain": [
              "array([[1, 1, 1],\n",
              "       [1, 1, 1]])"
            ]
          },
          "metadata": {
            "tags": []
          },
          "execution_count": 6
        }
      ]
    },
    {
      "metadata": {
        "id": "qs-P0MPD7g4O",
        "colab_type": "code",
        "colab": {
          "base_uri": "https://localhost:8080/",
          "height": 72
        },
        "outputId": "64a4faa6-d39d-4490-808d-e5fc1035a8f0"
      },
      "cell_type": "code",
      "source": [
        "fop = np.full((3,2),3.141592654)\n",
        "fop"
      ],
      "execution_count": 7,
      "outputs": [
        {
          "output_type": "execute_result",
          "data": {
            "text/plain": [
              "array([[3.14159265, 3.14159265],\n",
              "       [3.14159265, 3.14159265],\n",
              "       [3.14159265, 3.14159265]])"
            ]
          },
          "metadata": {
            "tags": []
          },
          "execution_count": 7
        }
      ]
    },
    {
      "metadata": {
        "id": "9B005zOb7s8x",
        "colab_type": "code",
        "colab": {}
      },
      "cell_type": "code",
      "source": [
        ""
      ],
      "execution_count": 0,
      "outputs": []
    }
  ]
}